{
 "cells": [
  {
   "cell_type": "markdown",
   "source": [
    "# Loading Libraries"
   ],
   "metadata": {
    "collapsed": false
   },
   "id": "8d3cca2ce2b3936d"
  },
  {
   "cell_type": "code",
   "outputs": [],
   "source": [
    "import json\n",
    "import os\n",
    "from itertools import combinations\n",
    "\n",
    "import matplotlib.pyplot as plt\n",
    "import pandas as pd\n",
    "import numpy as np\n",
    "import seaborn as sns\n",
    "\n",
    "from shapely.geometry import Polygon as ShapelyPolygon, mapping\n",
    "from shapely.validation import make_valid\n",
    "\n",
    "%matplotlib inline"
   ],
   "metadata": {
    "collapsed": true,
    "ExecuteTime": {
     "end_time": "2024-04-18T18:07:49.572449600Z",
     "start_time": "2024-04-18T18:07:49.560170500Z"
    }
   },
   "id": "initial_id",
   "execution_count": 14
  },
  {
   "cell_type": "markdown",
   "source": [
    "# Functions"
   ],
   "metadata": {
    "collapsed": false
   },
   "id": "c7d913e36631f626"
  },
  {
   "cell_type": "markdown",
   "source": [
    "## Combine"
   ],
   "metadata": {
    "collapsed": false
   },
   "id": "4b43c412fddcca38"
  },
  {
   "cell_type": "code",
   "outputs": [],
   "source": [
    "def change(txt: list[str] | str) -> str:\n",
    "    if isinstance(txt, str):\n",
    "        return txt.replace(\" \", \"_\")\n",
    "    return combine(txt[0], txt[1])\n",
    "\n",
    "def combine(t1, t2):\n",
    "    return change(t1) + \"-\" + change(t2)"
   ],
   "metadata": {
    "collapsed": false,
    "ExecuteTime": {
     "end_time": "2024-04-18T18:07:49.597836800Z",
     "start_time": "2024-04-18T18:07:49.564614600Z"
    }
   },
   "id": "cbc505bb87b717b8",
   "execution_count": 15
  },
  {
   "cell_type": "markdown",
   "source": [
    "## Make Valid"
   ],
   "metadata": {
    "collapsed": false
   },
   "id": "94107987993dbf6a"
  },
  {
   "cell_type": "code",
   "outputs": [],
   "source": [
    "def ensure_validity(poly: ShapelyPolygon) -> ShapelyPolygon:\n",
    "    return poly if poly.is_valid else make_valid(poly)"
   ],
   "metadata": {
    "collapsed": false,
    "ExecuteTime": {
     "end_time": "2024-04-18T18:07:49.626824700Z",
     "start_time": "2024-04-18T18:07:49.597836800Z"
    }
   },
   "id": "7603879c3785e608",
   "execution_count": 16
  },
  {
   "cell_type": "markdown",
   "source": [
    "# Main Class"
   ],
   "metadata": {
    "collapsed": false
   },
   "id": "78f3bf3c46a39c65"
  },
  {
   "cell_type": "code",
   "outputs": [],
   "source": [
    "class DataIterator:\n",
    "    def __init__(self, data: list, host: list[str] | str, target: str, ratio: float = 0):\n",
    "        self.data = data\n",
    "        self.host = host\n",
    "        self.target = target\n",
    "        self.ratio = ratio\n",
    "        \n",
    "        self.counter = {}\n",
    "        self.perm = \"\""
   ],
   "metadata": {
    "collapsed": false,
    "ExecuteTime": {
     "end_time": "2024-04-18T18:07:49.654331700Z",
     "start_time": "2024-04-18T18:07:49.627798300Z"
    }
   },
   "id": "3747340f01bb66f3",
   "execution_count": 17
  },
  {
   "cell_type": "code",
   "outputs": [],
   "source": [
    "class CompositeIterator(DataIterator):\n",
    "    def __init__(self, data: list, host: list[str] | str, target: str, ratio: float = 0):\n",
    "        super().__init__(data, host, target, ratio)\n",
    "        self.class_coordinates = {}\n",
    "        self.host_counter = 0\n",
    "        self.run()\n",
    "    \n",
    "    def __count_combination(self):\n",
    "        for c1 in self.class_coordinates[self.host[0]]:\n",
    "            if len(c1) <= 3:\n",
    "                continue\n",
    "            \n",
    "            h1_poly = ensure_validity(ShapelyPolygon(c1))\n",
    "            \n",
    "            if mapping(h1_poly)[\"type\"] != \"Polygon\":\n",
    "                continue\n",
    "            \n",
    "            for c2 in self.class_coordinates[self.host[1]]:\n",
    "                if len(c2) <= 3:\n",
    "                    continue\n",
    "                \n",
    "                h2_poly = ensure_validity(ShapelyPolygon(c2))\n",
    "                \n",
    "                if mapping(h2_poly)[\"type\"] != \"Polygon\":\n",
    "                    continue\n",
    "                \n",
    "                if h1_poly.intersects(h2_poly) or h1_poly.touches(h2_poly):\n",
    "                    combined_poly = h1_poly.union(h2_poly)\n",
    "                    \n",
    "                    try:\n",
    "                        coordinates = list(mapping(combined_poly)[\"coordinates\"][0])\n",
    "                    except KeyError:\n",
    "                        continue\n",
    "                    \n",
    "                    if len(coordinates) < 2:\n",
    "                        continue\n",
    "                    \n",
    "                    self.host_counter += 1\n",
    "    \n",
    "    def __separate_labels(self):\n",
    "        for image in self.data:\n",
    "            self.class_coordinates = {k: [] for k in self.host}\n",
    "            \n",
    "            for label in image[\"labels\"]:\n",
    "                if label[\"category\"] in self.host:\n",
    "                    self.class_coordinates[label[\"category\"]].append(label[\"coordinates\"])\n",
    "            \n",
    "            self.__count_combination()\n",
    "    \n",
    "    def run(self):\n",
    "        self.__separate_labels()\n",
    "    \n",
    "    def get_counter(self):\n",
    "        return self.host_counter\n",
    "    \n",
    "    def __generate_perm(self):\n",
    "        np.random.seed(1337)\n",
    "        self.perm = np.zeros(self.host_counter, dtype=np.uint8)\n",
    "        ones = round(self.host_counter * self.ratio)\n",
    "        self.perm[:ones] = 1\n",
    "        \n",
    "        np.random.shuffle(self.perm)\n",
    "        \n",
    "    \n",
    "    def get_perm(self):\n",
    "        self.__generate_perm()\n",
    "        return self.perm"
   ],
   "metadata": {
    "collapsed": false,
    "ExecuteTime": {
     "end_time": "2024-04-18T18:07:49.683919200Z",
     "start_time": "2024-04-18T18:07:49.657251600Z"
    }
   },
   "id": "673f1b887a9ccdda",
   "execution_count": 18
  },
  {
   "cell_type": "code",
   "outputs": [],
   "source": [
    "class Selector:\n",
    "    def __init__(self, root: str):\n",
    "        self.root = root\n",
    "        self.method = \"train\"\n",
    "        self.data = []\n",
    "        self.categories = []"
   ],
   "metadata": {
    "collapsed": false,
    "ExecuteTime": {
     "end_time": "2024-04-18T18:07:49.716582700Z",
     "start_time": "2024-04-18T18:07:49.684909400Z"
    }
   },
   "id": "93e01b5cf3c4443e",
   "execution_count": 19
  },
  {
   "cell_type": "code",
   "outputs": [],
   "source": [
    "class BDDSelector(Selector):\n",
    "    def __init__(self, root: str):\n",
    "        super().__init__(root)        \n",
    "        self.run()\n",
    "    \n",
    "    def __load_data(self):\n",
    "        print(\"Loading data\", end=\"...\")\n",
    "        with open(os.path.join(self.root, \"labels\", \"sem_seg\", \"polygons\", \"sem_seg_train.json\"), \"r\") as f:\n",
    "            self.data = json.load(f)\n",
    "        print(\"✅\")\n",
    "    \n",
    "    def __load_categories(self):\n",
    "        for row in self.data:\n",
    "            for label in row[\"labels\"]:\n",
    "                if label[\"category\"] not in self.categories:\n",
    "                    self.categories.append(label[\"category\"])\n",
    "        self.categories.sort()\n",
    "        self.categories = {v: i for i, v in enumerate(self.categories)}\n",
    "    \n",
    "    def __fix_data(self):\n",
    "        print(\"Fixing data\", end=\"...\")\n",
    "        output = []\n",
    "        for row in self.data:\n",
    "            img_info = {\n",
    "                \"name\": row[\"name\"],\n",
    "                \"width\": 1280,\n",
    "                \"height\": 720,\n",
    "                \"labels\": []\n",
    "            }\n",
    "            \n",
    "            for label in row[\"labels\"]:\n",
    "                img_info[\"labels\"].append({\n",
    "                    \"category\": label[\"category\"],\n",
    "                    \"coordinates\": label[\"poly2d\"][0][\"vertices\"]\n",
    "                })\n",
    "            \n",
    "            output.append(img_info)\n",
    "        \n",
    "        self.data = output\n",
    "        print(\"✅\")\n",
    "    \n",
    "    def run(self):\n",
    "        self.__load_data()\n",
    "        self.__load_categories()\n",
    "        self.__fix_data()\n",
    "        \n",
    "        for pair in combinations(self.categories, 2):\n",
    "            print(combine(*pair), end=\"\\t\")\n",
    "            data_iterator = CompositeIterator(self.data, list(pair), \"\")\n",
    "            print(data_iterator.get_counter())"
   ],
   "metadata": {
    "collapsed": false,
    "ExecuteTime": {
     "end_time": "2024-04-18T18:08:52.605502500Z",
     "start_time": "2024-04-18T18:08:52.601261900Z"
    }
   },
   "id": "8606696252f5ed06",
   "execution_count": 23
  },
  {
   "cell_type": "code",
   "outputs": [
    {
     "name": "stdout",
     "output_type": "stream",
     "text": [
      "Loading data...✅\n",
      "Fixing data...✅\n",
      "banner-bicycle\t3\n",
      "banner-billboard\t30\n",
      "banner-bridge\t69\n",
      "banner-building\t1678\n",
      "banner-bus\t15\n",
      "banner-bus_stop\t0\n",
      "banner-car\t119\n",
      "banner-caravan\t4\n",
      "banner-dynamic\t6\n",
      "banner-ego_vehicle\t17\n",
      "banner-fence\t21\n",
      "banner-fire_hydrant\t2\n",
      "banner-garage\t1\n",
      "banner-ground\t11\n",
      "banner-guard_rail\t14\n",
      "banner-lane_divider\t6\n",
      "banner-mail_box\t0\n",
      "banner-motorcycle\t0\n",
      "banner-parking\t2\n",
      "banner-parking_sign\t8\n",
      "banner-person\t14\n",
      "banner-pole\t1613\n",
      "banner-polegroup\t4\n",
      "banner-rail_track\t0\n",
      "banner-rider\t0\n",
      "banner-road\t41\n",
      "banner-sidewalk\t43\n",
      "banner-sky\t1080\n",
      "banner-static\t247\n",
      "banner-street_light\t53\n",
      "banner-terrain\t32\n",
      "banner-traffic_cone\t4\n",
      "banner-traffic_device\t16\n",
      "banner-traffic_light\t62\n",
      "banner-traffic_sign\t111\n",
      "banner-traffic_sign_frame\t27\n",
      "banner-trailer\t0\n",
      "banner-train\t0\n",
      "banner-trash_can\t0\n",
      "banner-truck\t24\n",
      "banner-tunnel\t2\n",
      "banner-unlabeled\t0\n",
      "banner-vegetation\t922\n",
      "banner-wall\t11\n",
      "bicycle-billboard\t4\n",
      "bicycle-bridge\t12\n",
      "bicycle-building\t358\n",
      "bicycle-bus\t14\n",
      "bicycle-bus_stop\t0\n",
      "bicycle-car\t238\n",
      "bicycle-caravan\t0\n",
      "bicycle-dynamic\t35\n",
      "bicycle-ego_vehicle\t16\n",
      "bicycle-fence\t57\n",
      "bicycle-fire_hydrant\t1\n",
      "bicycle-garage\t0\n",
      "bicycle-ground\t21\n",
      "bicycle-guard_rail\t19\n",
      "bicycle-lane_divider\t12\n",
      "bicycle-mail_box\t5\n",
      "bicycle-motorcycle\t3\n",
      "bicycle-parking\t24\n",
      "bicycle-parking_sign\t0\n",
      "bicycle-person\t162\n",
      "bicycle-pole\t173\n",
      "bicycle-polegroup\t3\n",
      "bicycle-rail_track\t7\n",
      "bicycle-rider\t289\n",
      "bicycle-road\t415\n",
      "bicycle-sidewalk\t420\n",
      "bicycle-sky\t31\n",
      "bicycle-static\t182\n",
      "bicycle-street_light\t6\n",
      "bicycle-terrain\t16\n",
      "bicycle-traffic_cone\t2\n",
      "bicycle-traffic_device\t0\n",
      "bicycle-traffic_light\t5\n",
      "bicycle-traffic_sign\t14\n",
      "bicycle-traffic_sign_frame\t0\n",
      "bicycle-trailer\t0\n",
      "bicycle-train\t1\n",
      "bicycle-trash_can\t9\n",
      "bicycle-truck\t16\n",
      "bicycle-tunnel\t1\n",
      "bicycle-unlabeled\t1\n",
      "bicycle-vegetation\t118\n",
      "bicycle-wall\t18\n",
      "billboard-bridge\t155\n",
      "billboard-building\t2005\n",
      "billboard-bus\t14\n",
      "billboard-bus_stop\t13\n",
      "billboard-car\t330\n",
      "billboard-caravan\t5\n",
      "billboard-dynamic\t14\n",
      "billboard-ego_vehicle\t13\n",
      "billboard-fence\t114\n",
      "billboard-fire_hydrant\t1\n",
      "billboard-garage\t0\n",
      "billboard-ground\t9\n",
      "billboard-guard_rail\t30\n",
      "billboard-lane_divider\t13\n",
      "billboard-mail_box\t9\n",
      "billboard-motorcycle\t6\n",
      "billboard-parking\t16\n",
      "billboard-parking_sign\t10\n",
      "billboard-person\t50\n",
      "billboard-pole\t2315\n",
      "billboard-polegroup\t8\n",
      "billboard-rail_track\t2\n",
      "billboard-rider\t3\n",
      "billboard-road\t77\n",
      "billboard-sidewalk\t124\n",
      "billboard-sky\t1000\n",
      "billboard-static\t372\n",
      "billboard-street_light\t109\n",
      "billboard-terrain\t76\n",
      "billboard-traffic_cone\t6\n",
      "billboard-traffic_device\t5\n",
      "billboard-traffic_light\t100\n",
      "billboard-traffic_sign\t186\n",
      "billboard-traffic_sign_frame\t35\n",
      "billboard-trailer\t3\n",
      "billboard-train\t2\n",
      "billboard-trash_can\t6\n",
      "billboard-truck\t34\n",
      "billboard-tunnel\t6\n",
      "billboard-unlabeled\t7\n",
      "billboard-vegetation\t1249\n",
      "billboard-wall\t47\n",
      "bridge-building\t1656\n",
      "bridge-bus\t117\n",
      "bridge-bus_stop\t5\n",
      "bridge-car\t3507\n",
      "bridge-caravan\t22\n",
      "bridge-dynamic\t206\n",
      "bridge-ego_vehicle\t68\n",
      "bridge-fence\t404\n",
      "bridge-fire_hydrant\t2\n",
      "bridge-garage\t3\n",
      "bridge-ground\t65\n",
      "bridge-guard_rail\t884\n",
      "bridge-lane_divider\t52\n",
      "bridge-mail_box\t26\n",
      "bridge-motorcycle\t3\n",
      "bridge-parking\t20\n",
      "bridge-parking_sign\t24\n",
      "bridge-person\t97\n",
      "bridge-pole\t3673\n",
      "bridge-polegroup\t59\n",
      "bridge-rail_track\t2\n",
      "bridge-rider\t10\n",
      "bridge-road\t672\n",
      "bridge-sidewalk\t218\n",
      "bridge-sky\t2493\n",
      "bridge-static\t1482\n",
      "bridge-street_light\t313\n",
      "bridge-terrain\t305\n",
      "bridge-traffic_cone\t46\n",
      "bridge-traffic_device\t14\n",
      "bridge-traffic_light\t548\n",
      "bridge-traffic_sign\t1348\n",
      "bridge-traffic_sign_frame\t299\n",
      "bridge-trailer\t10\n",
      "bridge-train\t8\n",
      "bridge-trash_can\t0\n",
      "bridge-truck\t367\n",
      "bridge-tunnel\t18\n",
      "bridge-unlabeled\t11\n",
      "bridge-vegetation\t3061\n",
      "bridge-wall\t202\n",
      "building-bus\t1209\n",
      "building-bus_stop\t84\n",
      "building-car\t39120\n",
      "building-caravan\t252\n",
      "building-dynamic\t2191\n",
      "building-ego_vehicle\t779\n",
      "building-fence\t3294\n",
      "building-fire_hydrant\t99\n",
      "building-garage\t97\n",
      "building-ground\t339\n",
      "building-guard_rail\t1290\n",
      "building-lane_divider\t493\n",
      "building-mail_box\t76\n",
      "building-motorcycle\t"
     ]
    }
   ],
   "source": [
    "BDDSelector(r\"D:\\datasets\\bdd100k\")"
   ],
   "metadata": {
    "collapsed": false,
    "is_executing": true,
    "ExecuteTime": {
     "start_time": "2024-04-18T18:08:54.751538100Z"
    }
   },
   "id": "1f87162de9c7cc48",
   "execution_count": null
  }
 ],
 "metadata": {
  "kernelspec": {
   "display_name": "Python 3",
   "language": "python",
   "name": "python3"
  },
  "language_info": {
   "codemirror_mode": {
    "name": "ipython",
    "version": 2
   },
   "file_extension": ".py",
   "mimetype": "text/x-python",
   "name": "python",
   "nbconvert_exporter": "python",
   "pygments_lexer": "ipython2",
   "version": "2.7.6"
  }
 },
 "nbformat": 4,
 "nbformat_minor": 5
}
